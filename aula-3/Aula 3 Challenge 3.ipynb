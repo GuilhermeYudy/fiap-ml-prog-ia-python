{
 "cells": [
  {
   "cell_type": "markdown",
   "metadata": {},
   "source": [
    "# Aula 3\n",
    "## Challenge 3\n",
    "___"
   ]
  },
  {
   "cell_type": "markdown",
   "metadata": {},
   "source": [
    "Crie uma classe chamado corpus e implemente os seguintes métodos.\n",
    "\n",
    "* Inicializador com o parametro texto como array\n",
    "* Inserir_texto para adicionar um item ao atributo texto\n",
    "* Sobrescreva o método str para retornar o número de textos do array e o maior número de palavras\n",
    "* Sobrescreva o método len para retornar o número de textos do array.\n",
    "\n",
    "Hint: use os conceitos de map, lambda e list."
   ]
  },
  {
   "cell_type": "code",
   "execution_count": 24,
   "metadata": {
    "collapsed": true
   },
   "outputs": [],
   "source": [
    "import functools\n",
    "\n",
    "class Corpus(object):\n",
    "    \n",
    "    def __init__(self, lista_texto):\n",
    "        self.lista_texto = lista_texto\n",
    "        \n",
    "    def inserir_texto(self, texto):\n",
    "        self.lista_texto.append(texto)\n",
    "        \n",
    "    def get_lista_texto(self):\n",
    "        return self.lista_texto\n",
    "    \n",
    "    def set_lista_texto(self, lista_texto):\n",
    "        self.lista_texto = lista_texto\n",
    "    \n",
    "    def __str__(self):\n",
    "        count_word = lambda x : len(x.split(\" \"))\n",
    "        lista_palavras = list(map(count_word, lista))\n",
    "        maior_num_palavras = functools.reduce(lambda x, y: x if x > y else y, lista_palavras)\n",
    "        retorno = \"Número de textos %s\\nMaior número de palavras %s\"%(len(self.lista_texto), maior_num_palavras)\n",
    "        return retorno\n",
    "    \n",
    "    def __len__(self):\n",
    "        return len(self.lista_texto)\n",
    "    "
   ]
  },
  {
   "cell_type": "code",
   "execution_count": 25,
   "metadata": {
    "collapsed": true
   },
   "outputs": [],
   "source": [
    "lista = [\"dsada dsada dsada das\", \"dsad dsa dsa dsa das\"]"
   ]
  },
  {
   "cell_type": "code",
   "execution_count": 26,
   "metadata": {
    "collapsed": true
   },
   "outputs": [],
   "source": [
    "corpus = Corpus(lista)"
   ]
  },
  {
   "cell_type": "code",
   "execution_count": 27,
   "metadata": {},
   "outputs": [
    {
     "data": {
      "text/plain": [
       "2"
      ]
     },
     "execution_count": 27,
     "metadata": {},
     "output_type": "execute_result"
    }
   ],
   "source": [
    "len(corpus)"
   ]
  },
  {
   "cell_type": "code",
   "execution_count": 30,
   "metadata": {},
   "outputs": [
    {
     "name": "stdout",
     "output_type": "stream",
     "text": [
      "Número de textos 2\n",
      "Maior número de palavras 5\n"
     ]
    }
   ],
   "source": [
    "print(corpus)"
   ]
  },
  {
   "cell_type": "code",
   "execution_count": 31,
   "metadata": {
    "collapsed": true
   },
   "outputs": [],
   "source": [
    "corpus.inserir_texto(\"dsa das da das dsa dsa da da das dsa da da dsa da das da das da das dsa\")"
   ]
  },
  {
   "cell_type": "code",
   "execution_count": 32,
   "metadata": {},
   "outputs": [
    {
     "name": "stdout",
     "output_type": "stream",
     "text": [
      "Número de textos 3\n",
      "Maior número de palavras 20\n"
     ]
    }
   ],
   "source": [
    "print(corpus)"
   ]
  },
  {
   "cell_type": "code",
   "execution_count": 33,
   "metadata": {},
   "outputs": [
    {
     "data": {
      "text/plain": [
       "3"
      ]
     },
     "execution_count": 33,
     "metadata": {},
     "output_type": "execute_result"
    }
   ],
   "source": [
    "len(corpus)"
   ]
  },
  {
   "cell_type": "code",
   "execution_count": null,
   "metadata": {
    "collapsed": true
   },
   "outputs": [],
   "source": []
  }
 ],
 "metadata": {
  "kernelspec": {
   "display_name": "Python 3",
   "language": "python",
   "name": "python3"
  },
  "language_info": {
   "codemirror_mode": {
    "name": "ipython",
    "version": 3
   },
   "file_extension": ".py",
   "mimetype": "text/x-python",
   "name": "python",
   "nbconvert_exporter": "python",
   "pygments_lexer": "ipython3",
   "version": "3.6.2"
  }
 },
 "nbformat": 4,
 "nbformat_minor": 2
}
