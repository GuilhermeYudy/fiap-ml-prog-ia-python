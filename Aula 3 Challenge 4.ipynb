{
 "cells": [
  {
   "cell_type": "markdown",
   "metadata": {},
   "source": [
    "# Aula 3\n",
    "## Challenge 4\n",
    "___"
   ]
  },
  {
   "cell_type": "markdown",
   "metadata": {},
   "source": [
    "Crie uma gerador de Joseph que receba como parâmetro de entrada o número máximo de iterações.\n",
    "\n",
    "\n",
    "Hint: sequência de Joseph (quadrado dos ímpares): 1, 9, 25, 49, …"
   ]
  },
  {
   "cell_type": "code",
   "execution_count": 44,
   "metadata": {
    "collapsed": true
   },
   "outputs": [],
   "source": [
    "def seq_joseph(max_num):\n",
    "    a = 0\n",
    "    for i in range(max_num):\n",
    "        mod = i % 2\n",
    "        if mod != 0:\n",
    "            a = i**2\n",
    "            yield a\n",
    "        "
   ]
  },
  {
   "cell_type": "code",
   "execution_count": 45,
   "metadata": {},
   "outputs": [
    {
     "name": "stdout",
     "output_type": "stream",
     "text": [
      "Valor 1\n",
      "1\n",
      "Valor 3\n",
      "9\n",
      "Valor 5\n",
      "25\n",
      "Valor 7\n",
      "49\n",
      "Valor 9\n",
      "81\n"
     ]
    }
   ],
   "source": [
    "for x in seq_jose(10):\n",
    "    print(x)"
   ]
  }
 ],
 "metadata": {
  "kernelspec": {
   "display_name": "Python 3",
   "language": "python",
   "name": "python3"
  },
  "language_info": {
   "codemirror_mode": {
    "name": "ipython",
    "version": 3
   },
   "file_extension": ".py",
   "mimetype": "text/x-python",
   "name": "python",
   "nbconvert_exporter": "python",
   "pygments_lexer": "ipython3",
   "version": "3.6.2"
  }
 },
 "nbformat": 4,
 "nbformat_minor": 2
}
